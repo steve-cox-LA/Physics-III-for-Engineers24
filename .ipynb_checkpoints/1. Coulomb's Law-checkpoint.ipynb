{
 "cells": [
  {
   "cell_type": "markdown",
   "metadata": {},
   "source": [
    "# 5.3 Coulomb's Law\n",
    "\n",
    "The **electrical force** between two charged particles takes the **exact same form** as the gravitational force between two masses.\n",
    "\n",
    "We suppose a **source** of charge $q_s$ (in coulombs, C) at position $\\vec r_s = (x_s,y_s)$ (in meters, m) and \n",
    "a **target** of charge $q_t$ (in coulombs, C) at position $\\vec r_t = (x_t,y_t)$ (in meters, m). \n",
    "\n",
    "The force that the source\n",
    "charge imparts to the target charge is directed along the line through the two charges. The source will repell the target if they have the same sign and will attract the target if they have opposite sign. We use python to visualize the scene, and the arrowhead implies that $q_s$ repells $q_t$."
   ]
  },
  {
   "cell_type": "code",
   "execution_count": 1,
   "metadata": {},
   "outputs": [
    {
     "data": {
      "image/png": "[encoded data removed]",
      "text/plain": [
       "<Figure size 432x288 with 1 Axes>"
      ]
     },
     "metadata": {
      "needs_background": "light"
     },
     "output_type": "display_data"
    }
   ],
   "source": [
    "# plot the force vector between a pair of charges\n",
    "\n",
    "import numpy as np         # math helper routines\n",
    "import matplotlib.pyplot as plt  # graphics helper routines\n",
    "\n",
    "x_s, y_s = [1,1]   # source coordinates\n",
    "x_t, y_t = [3,3]   # target coordinates\n",
    "\n",
    "plt.plot(x_s, y_s, 'ro', markersize=12)\n",
    "plt.text(x_s-.2, y_s+.1,'$q_s$',fontsize=16)\n",
    "\n",
    "plt.plot(x_t, y_t, 'gs', markersize=12)\n",
    "plt.text(x_t+.1, y_t-.1,'$q_t$',fontsize=16)\n",
    "\n",
    "plt.arrow(x_s,y_s,x_t-x_s,y_t-y_s,width = 0.06, length_includes_head = True)\n",
    "plt.text(2.1,1.75,'$\\\\vec F(s,t)$',fontsize=16)\n",
    "\n",
    "plt.title('Figure 1',fontsize=18)\n",
    "plt.grid('on')\n",
    "plt.xlabel('x  (m)', fontsize=12)\n",
    "plt.ylabel('y  (m)', fontsize=12)\n",
    "plt.axis('equal');"
   ]
  },
  {
   "cell_type": "markdown",
   "metadata": {},
   "source": [
    "The force on the target due to the source is determined by **Coulomb's Law**\n",
    "\n",
    "$$\n",
    "  \\boxed{\\vec F(s,t) = k_e q_s q_t \\frac{\\vec r_t - \\vec r_s}{\\|\\vec r_t - \\vec r_s\\|^3}}\n",
    "$$\n",
    "\n",
    "where\n",
    "\n",
    "$$\n",
    "  \\vec r_t - \\vec r_s = (x_t,y_t)-(x_s,y_s) = (x_t-x_s,y_t-y_s)\n",
    "$$\n",
    "\n",
    "is the vector pointing from source to target and\n",
    "\n",
    "$$\n",
    "  \\|\\vec r_t - \\vec r_s\\| = \\|(x_t-x_s,y_t-y_s)\\| \\equiv \\sqrt{(x_t-x_s)^2+(y_t-y_s)^2}\n",
    "$$\n",
    "\n",
    "is its Pythagorean length, or **norm**, and $k_e$ is the universal constant\n",
    "\n",
    "$$\n",
    "  k_e = 8.99\\times 10^9 \\frac{Nm^2}{C^2}\n",
    "$$\n",
    "\n",
    "\n",
    "Note, we are following our book's convention of labeling vectors (like position and force) with over arrows. The book also uses bold font for vectors, and then to denote the norm of the vector it drops the over arrow and bold font. I find this prone to errors and misreadings and so instead use the norm notation, $\\|\\cdot\\|$, in writing and the _norm_ function in python.\n",
    "\n",
    "If we just wish to know the size, i.e., **norm** of this force, then\n",
    "\n",
    "$$\n",
    "  \\|\\vec F(s,t)\\| = k_e |q_s q_t| \\frac{\\|\\vec r_t - \\vec r_s\\|}{\\|\\vec r_t - \\vec r_s\\|^3} \n",
    "    = \\frac{k_e |q_s q_t|}{\\|\\vec r_t - \\vec r_s\\|^2}\n",
    "    = \\frac{k_e |q_s q_t|}{(x_t-x_s)^2+(y_t-y_s)^2}\n",
    "$$\n",
    "\n",
    "which we recognize as an **inverse square law** - the magnitude of the force goes down like the square of the distance between the two charges.\n",
    "\n",
    "For example, if source and target charges are single electrons then"
   ]
  },
  {
   "cell_type": "code",
   "execution_count": 2,
   "metadata": {},
   "outputs": [
    {
     "name": "stdout",
     "output_type": "stream",
     "text": [
      "The Magnitude of the Coulomb Force between two electons separated by sqrt(8) meters is = 5.769265e-29 N\n"
     ]
    }
   ],
   "source": [
    "k_e = 8.99e9  # N m^2 / C^2\n",
    "q_s = -1.60217662e-19   # C\n",
    "q_t = q_s\n",
    "Fmag = k_e*abs(q_t*q_s)/((x_t-x_s)^2+(y_t-y_s)^2)\n",
    "print('The Magnitude of the Coulomb Force between two electons separated by sqrt(8) meters is = %e N' % Fmag)"
   ]
  },
  {
   "cell_type": "markdown",
   "metadata": {},
   "source": [
    "**Exercise 1.** What is this magnitude if instead of meters in Figure 1 we used nanometers? Place your work in the cell below."
   ]
  },
  {
   "cell_type": "code",
   "execution_count": null,
   "metadata": {},
   "outputs": [],
   "source": []
  },
  {
   "cell_type": "markdown",
   "metadata": {},
   "source": [
    "You see that the real work in determining the force between two charges lies in computing the distance between the charges. The next cell should give you some practice. Work these until they become automatic."
   ]
  },
  {
   "cell_type": "code",
   "execution_count": null,
   "metadata": {
    "code_folding": []
   },
   "outputs": [],
   "source": [
    "# pose   random  c = sqrt((xs-xt)^2+(ys-yt)^2)  questions\n",
    "# c will always be a whole number (for this cell)\n",
    "# Press the Run button and work until you can get 10 right \n",
    "\n",
    "import numpy as np\n",
    "import time\n",
    "\n",
    "start_time = time.time()\n",
    "replies = 0\n",
    "score = 0\n",
    "\n",
    "while (replies < 10):\n",
    "    \n",
    "    m = np.random.randint(2,5)\n",
    "    n = np.random.randint(1,m) \n",
    "    a = m**2 - n**2\n",
    "    x1 = np.random.randint(a)\n",
    "    x2 = a + x1\n",
    "    b = 2*m*n\n",
    "    y1 = np.random.randint(b)\n",
    "    y2 = b + y1\n",
    "    \n",
    "    try:\n",
    "       ans = input('How far is (' + str(x1) + ', ' + str(y1) + ') from  (' + str(x2) + ', ' + str(y2) + ') ? ')\n",
    "       ians = int(ans)\n",
    "       if ( abs(ians-(m**2+n**2)) < 0.5 ):\n",
    "           print('       well done')\n",
    "           score = score + 1\n",
    "       else:\n",
    "           print('       not this time')\n",
    "       print(' ')\n",
    "       replies = replies + 1\n",
    "    except:\n",
    "        print('oops: I need a whole number')\n",
    "        print(' ')\n",
    "\n",
    "print('Your Score is ' + str(score) + ' out of 10')\n",
    "print('You finished in ' + str(round(time.time()-start_time)) + ' seconds')"
   ]
  },
  {
   "cell_type": "markdown",
   "metadata": {},
   "source": [
    "### Multiple Sources\n",
    "\n",
    "We suppose $N$ sources charges, $q_{s_1}$, $q_{s_2}$ through $q_{s_N}$ at $\\vec r_{s_1}$, $\\vec r_{s_2}$, through $\\vec r_{s_n}$. The resulting force on $q_t$ is simply the sum of the individual forces, i.e.,\n",
    "\n",
    "$$\n",
    "  \\vec F(\\vec s,t) = k_e q_t \\sum_{n=1}^N q_{s_n}\\frac{\\vec r_t - \\vec r_{s_n}}{\\|\\vec r_t - \\vec r_{s_n}\\|^3}\n",
    "$$\n",
    "\n",
    "In this case it is customary to base the resulting force arrow at the target charge, as below.\n"
   ]
  },
  {
   "cell_type": "code",
   "execution_count": null,
   "metadata": {
    "code_folding": []
   },
   "outputs": [],
   "source": [
    "# find and plot the force of three (+) source charges on one (+) target charge\n",
    "\n",
    "x_s = [-1, 0, 1]  # x-coordinates of sources\n",
    "y_s = [0, 0, 0]   # y-coordinates of sources\n",
    "\n",
    "x_t, y_t = [-1, 1]  # target coordinates\n",
    "\n",
    "# let's assume all charges are single protons and\n",
    "# ignore the common factor k_e*q_t*q_s\n",
    "\n",
    "for n in range(3):   # place red o at each source\n",
    "    plt.plot(x_s[n], y_s[n], 'ro', markersize=12)\n",
    "\n",
    "plt.plot(x_t, y_t, 'ko', markersize=12)  # place black o at target\n",
    "\n",
    "Fvec = np.zeros(2,)      # initialize the Force vector (Fvec)\n",
    "\n",
    "for n in range(3):       # build the Fvec, one charge at a time\n",
    "    r = np.array([x_t-x_s[n], y_t-y_s[n]])   # r = r_t - r_s\n",
    "    Fvec = Fvec + r/np.linalg.norm(r)**3  # Coulomb's Law\n",
    "    \n",
    "Fvec = Fvec / np.linalg.norm(Fvec)   # normalize for plotting purposes\n",
    "\n",
    "plt.arrow(x_t,y_t,Fvec[0],Fvec[1],width = 0.06, length_includes_head = True)\n",
    "\n",
    "plt.title('Figure 2',fontsize=18)\n",
    "plt.grid('on')\n",
    "plt.xlim([-2,2])   # extend axes to see arrow\n",
    "plt.ylim([-1, 2]);"
   ]
  },
  {
   "cell_type": "markdown",
   "metadata": {},
   "source": [
    "**Exercise 2.** Explore the dipole. That is, place a positive charge at (1,0) and an equal but opposite charge at (-1,0) plot the resulting force vector at the (positively charged) target locations (-2,1), (-1,1), (0,1), (1,1), (2,1), (-2,0), (0,0), (2,0), (-2,-1), (-1,-1), (0,-1), (1,-1), (2,-1) - all on the same plot. Code this in the cell below."
   ]
  },
  {
   "cell_type": "code",
   "execution_count": null,
   "metadata": {},
   "outputs": [],
   "source": []
  },
  {
   "cell_type": "markdown",
   "metadata": {},
   "source": [
    "## Homework 1.\n",
    "\n",
    "Work the cell of 10 distance questions and the 2 Exercises."
   ]
  }
 ],
 "metadata": {
  "kernelspec": {
   "display_name": "Python 3 (ipykernel)",
   "language": "python",
   "name": "python3"
  },
  "language_info": {
   "codemirror_mode": {
    "name": "ipython",
    "version": 3
   },
   "file_extension": ".py",
   "mimetype": "text/x-python",
   "name": "python",
   "nbconvert_exporter": "python",
   "pygments_lexer": "ipython3",
   "version": "3.9.13"
  },
  "latex_envs": {
   "LaTeX_envs_menu_present": true,
   "autoclose": false,
   "autocomplete": false,
   "bibliofile": "",
   "cite_by": "apalike",
   "current_citInitial": 1,
   "eqLabelWithNumbers": true,
   "eqNumInitial": 1,
   "hotkeys": {
    "equation": "Ctrl-E",
    "itemize": "Ctrl-I"
   },
   "labels_anchors": false,
   "latex_user_defs": false,
   "report_style_numbering": true,
   "user_envs_cfg": true
  },
  "toc": {
   "base_numbering": 1,
   "nav_menu": {},
   "number_sections": true,
   "sideBar": true,
   "skip_h1_title": false,
   "title_cell": "Table of Contents",
   "title_sidebar": "Contents",
   "toc_cell": false,
   "toc_position": {},
   "toc_section_display": true,
   "toc_window_display": false
  }
 },
 "nbformat": 4,
 "nbformat_minor": 4
}
